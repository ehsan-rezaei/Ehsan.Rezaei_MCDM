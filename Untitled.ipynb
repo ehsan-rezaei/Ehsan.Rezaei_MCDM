{
 "cells": [
  {
   "cell_type": "code",
   "execution_count": 19,
   "metadata": {},
   "outputs": [
    {
     "name": "stdout",
     "output_type": "stream",
     "text": [
      "[+] Ehsan AHP\n",
      "\tMethod: eigenvalue\n",
      "\tResults:\n",
      "\t\tC#: 0.363\n",
      "\t\tpython: 0.405\n",
      "\t\tJava: 0.174\n",
      "\t\tGO: 0.059\n"
     ]
    }
   ],
   "source": [
    "!python -m pyahp -f python.json"
   ]
  }
 ],
 "metadata": {
  "kernelspec": {
   "display_name": "Python 3",
   "language": "python",
   "name": "python3"
  },
  "language_info": {
   "codemirror_mode": {
    "name": "ipython",
    "version": 3
   },
   "file_extension": ".py",
   "mimetype": "text/x-python",
   "name": "python",
   "nbconvert_exporter": "python",
   "pygments_lexer": "ipython3",
   "version": "3.7.4"
  }
 },
 "nbformat": 4,
 "nbformat_minor": 2
}
